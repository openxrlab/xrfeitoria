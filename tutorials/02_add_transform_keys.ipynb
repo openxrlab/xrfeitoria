{
 "cells": [
  {
   "cell_type": "markdown",
   "metadata": {},
   "source": [
    "# Tutorial02 - Add transform keys\n",
    "\n",
    "## Overview\n",
    "\n",
    "🚀 By the last tutorial, you have learned the concept of ``Actor``, ``Level`` and ``Sequence``. In this tutorial, you will learn how to add transform keys to an ``Actor`` in order to render multiple poses of it. By the end of this tutorial, you will be able to:\n",
    "- Open Blender/Unreal Engine by XRFeitoria\n",
    "- Import meshes as the ``Actor``s in the ``Level``\n",
    "- Set ``Actor``s' scale in the ``Level``\n",
    "- Create a `Sequence` for rendering and adding transform keys to `Actor`s\n",
    "- Add a camera in the `Sequence`\n",
    "- Render and save images"
   ]
  },
  {
   "cell_type": "markdown",
   "metadata": {},
   "source": [
    "## 1. Preparation\n",
    "\n",
    "Similar as Tutorial 01, specify your engine path and initialize XRFeitoria."
   ]
  },
  {
   "cell_type": "code",
   "execution_count": null,
   "metadata": {},
   "outputs": [],
   "source": [
    "import xrfeitoria as xf"
   ]
  },
  {
   "cell_type": "code",
   "execution_count": null,
   "metadata": {},
   "outputs": [],
   "source": [
    "# Replace with your executable path\n",
    "\n",
    "# Blender\n",
    "# engine_exec_path = 'D:/Program Files/Blender Foundation/Blender 3.3/blender.exe'\n",
    "\n",
    "# Unreal Engine\n",
    "engine_exec_path = 'D:/Program Files/Epic Games/UE_5.1/Engine/Binaries/Win64/UnrealEditor-Cmd.exe'"
   ]
  },
  {
   "cell_type": "code",
   "execution_count": null,
   "metadata": {},
   "outputs": [],
   "source": [
    "from pathlib import Path\n",
    "\n",
    "exec_path_stem = Path(engine_exec_path).stem.lower()\n",
    "if 'blender' in exec_path_stem:\n",
    "    # Open Blender\n",
    "    xf_runner = xf.init_blender(exec_path=engine_exec_path, background=False, new_process=True)\n",
    "elif 'unreal' in exec_path_stem:\n",
    "    # Unreal Engine requires a project to be opened\n",
    "    # Here we use a sample project, which is downloaded from the following link\n",
    "    # You can also prepare your own project\n",
    "    import shutil\n",
    "    from xrfeitoria.utils.downloader import download\n",
    "    unreal_project_zip = download(url='https://openxrlab-share.oss-cn-hongkong.aliyuncs.com/xrfeitoria/unreal_project/XRFeitoriaUnreal_Sample.zip', \n",
    "                                    dst_dir=\"./tutorial02/assets/\")\n",
    "    shutil.unpack_archive(filename=unreal_project_zip, extract_dir='./tutorial02/assets/')\n",
    "\n",
    "    # Open Unreal Engine\n",
    "    xf_runner = xf.init_unreal(exec_path=engine_exec_path, \n",
    "                                background=False, \n",
    "                                new_process=True, \n",
    "                                project_path='./tutorial02/assets/XRFeitoriaUnreal_Sample/XRFeitoriaUnreal_Sample.uproject')"
   ]
  },
  {
   "cell_type": "markdown",
   "metadata": {},
   "source": [
    "✨ Now you can see a new Blender/Unreal Engine process has started."
   ]
  },
  {
   "cell_type": "markdown",
   "metadata": {},
   "source": [
    "## 3. Import meshes\n",
    "\n",
    "Download the meshes of furnitures in [OmniObject3D](https://omniobject3d.github.io/) and the mesh of koupen chan, and import them as ``Actor``s in the ``Level``."
   ]
  },
  {
   "cell_type": "code",
   "execution_count": null,
   "metadata": {},
   "outputs": [],
   "source": [
    "import shutil\n",
    "from xrfeitoria.utils.downloader import download\n",
    "\n",
    "# Download the meshes\n",
    "assets_zip = download('http://file.bj.zoe.sensetime.com/resources/meihaiyi/xrfeitoria/assets/tutorial02.zip', dst_dir=\"./tutorial02/assets/\")\n",
    "shutil.unpack_archive(filename=assets_zip, extract_dir='./tutorial02/assets/')\n",
    "\n",
    "chair_path = Path(\"./tutorial02/assets/chair_001/Scan/chair.obj\").resolve()\n",
    "sofa_path = Path(\"./tutorial02/assets/sofa_001/Scan/sofa.obj\").resolve()\n",
    "table_path = Path(\"./tutorial02/assets/table_002/Scan/table.obj\").resolve()\n",
    "koupen_chan_path = Path(\"./tutorial02/assets/koupen_chan.fbx\").resolve()\n",
    "\n",
    "# Import the meshes\n",
    "furnitures = {}\n",
    "furnitures['chair'] = xf_runner.Actor.import_from_file(file_path=chair_path)\n",
    "furnitures['table'] = xf_runner.Actor.import_from_file(file_path=table_path)\n",
    "furnitures['sofa'] = xf_runner.Actor.import_from_file(file_path=sofa_path)\n",
    "koupen_chan = xf_runner.Actor.import_from_file(file_path=koupen_chan_path)"
   ]
  },
  {
   "cell_type": "markdown",
   "metadata": {},
   "source": [
    "Switch to the engine window, and you can see the meshes has been imported.\n",
    "\n",
    "But the Actors are too large, so let's scale them down to a proper size.\n",
    "\n",
    "Here we repeatly adjust the scale of the Actors until their size are below 2.0m."
   ]
  },
  {
   "cell_type": "code",
   "execution_count": null,
   "metadata": {},
   "outputs": [],
   "source": [
    "for _, furniture in furnitures.items():\n",
    "    while max(furniture.dimensions) > 2.0:\n",
    "        furniture.scale = tuple([s * 0.1 for s in furniture.scale])\n",
    "        \n",
    "while max(koupen_chan.dimensions) > 2.0:\n",
    "    koupen_chan.scale = tuple([s * 0.1 for s in koupen_chan.scale])"
   ]
  },
  {
   "cell_type": "markdown",
   "metadata": {},
   "source": [
    "Now they look like:\n",
    "\n",
    "[image]"
   ]
  },
  {
   "cell_type": "markdown",
   "metadata": {},
   "source": [
    "If you use ``Unreal Engine``, the final step before rendering is to save the ``Level``. You can save the ``Level`` by"
   ]
  },
  {
   "cell_type": "code",
   "execution_count": null,
   "metadata": {},
   "outputs": [],
   "source": [
    "# save the level\n",
    "if xf_runner.engine == 'unreal':\n",
    "    xf_runner.utils.save_current_level()   "
   ]
  },
  {
   "cell_type": "markdown",
   "metadata": {},
   "source": [
    "## 4. Add a sequence for rendering and adding transform keys\n",
    "\n",
    "``Sequence`` is a multifunctional class in XRFeitoria. It can be used for:\n",
    "- rendering\n",
    "- adding transform keys\n",
    "- grouping different objects.\n",
    "\n",
    "Here, we use it for rendering and adding transform keys."
   ]
  },
  {
   "cell_type": "code",
   "execution_count": null,
   "metadata": {},
   "outputs": [],
   "source": [
    "import random\n",
    "import copy\n",
    "from xrfeitoria.data_structure.models import RenderPass\n",
    "from xrfeitoria.data_structure.models import SequenceTransformKey as SeqTransKey\n",
    "\n",
    "# Use `with` statement to create a sequence, and it will be automatically close the sequence after the code block is executed.\n",
    "# The argument `seq_length` controls the number of frames to be rendered. \n",
    "with xf_runner.Sequence.new(seq_name=\"MySequence\", seq_length=20) as seq:\n",
    "    ##############################\n",
    "    ##### Add transform keys #####\n",
    "    ##############################\n",
    "\n",
    "    # We want to add transform keys to the furnitures to randomly change their locations and rotations in the room.\n",
    "    transform_keys = {}\n",
    "    actor_idx = 0\n",
    "    \n",
    "    for name, actor in furnitures.items():\n",
    "        actor_rotation = actor.rotation\n",
    "        actor_scale = actor.scale\n",
    "        for i in range(20):\n",
    "            random_location = (random.uniform(actor_idx * 1.0, actor_idx * 1.0 + 1.0), \n",
    "                               random.uniform(0.0, 2.0), \n",
    "                               1.0)\n",
    "            random_rotation = (actor_rotation[0],\n",
    "                               actor_rotation[1],\n",
    "                               actor_rotation[2] + random.randint(0, 3) * 90)\n",
    "\n",
    "            transform_keys[name].append(\n",
    "                SeqTransKey(\n",
    "                    frame=i,\n",
    "                    location=random_location,\n",
    "                    rotation=random_rotation,\n",
    "                    scale=actor_scale,\n",
    "                    interpolation='AUTO',\n",
    "                )            \n",
    "            )\n",
    "        # The function `use_actor_with_keys` sets transform keys for the actor in the sequence.\n",
    "        # The transform keys are only stored in the sequence.\n",
    "        # When the sequence is closed, the actor's location, rotation and scale will be restored to its original state(without transform keys).\n",
    "        seq.use_actor_with_keys(actor=actor, transform_keys=transform_keys[name])\n",
    "        actor_idx += 1\n",
    "    \n",
    "    # Add transform keys to koupen_chan to make it always sit on the table\n",
    "    koupen_chan_transform_keys = copy.deepcopy(transform_keys['table'])\n",
    "    for keys in koupen_chan_transform_keys:\n",
    "        keys.location = (keys.location[0], keys.location[1], keys.location[2] + furnitures['table'].dimensions[2] * 0.5)\n",
    "        keys.scale = koupen_chan.scale\n",
    "    # The function `use_actor_with_keys` sets transform keys for the actor in the sequence.\n",
    "    # The transform keys are only stored in the sequence.\n",
    "    # When the sequence is closed, the actor will be restored to its original state(without transform keys).\n",
    "    seq.use_actor_with_keys(actor=koupen_chan, transform_keys=koupen_chan_transform_keys)\n",
    "\n",
    "    #####################\n",
    "    ##### Rendering #####\n",
    "    #####################\n",
    "\n",
    "    # Add a camera and make it look at the specified location\n",
    "    camera_location = (1.5, -2.0, 3.0)\n",
    "    camera_rotation = xf_runner.utils.get_rotation_to_look_at(location=camera_location, target=(1.5, 1.0, 1.0))\n",
    "    seq.spawn_camera(location=camera_location, rotation=camera_rotation, fov=90)\n",
    "\n",
    "    # Add a render job to renderer\n",
    "    # In render job, you can specify the output path, resolution, render passes, etc.\n",
    "    # The ``output_path`` is the path to save the rendered data.\n",
    "    # The ``resolution`` is the resolution of the rendered image.\n",
    "    # The ``render_passes`` define what kind of data you want to render, such as img, depth, normal, etc.\n",
    "    # and what kind of format you want to save, such as png, exr, etc.\n",
    "    seq.add_to_renderer(\n",
    "        output_path=f'./tutorial02/outputs/{xf_runner.engine}/',\n",
    "        resolution=(1280, 720),\n",
    "        render_passes=[RenderPass('img', 'png')],\n",
    "    )"
   ]
  },
  {
   "cell_type": "markdown",
   "metadata": {},
   "source": [
    "## 5. Render\n",
    "\n",
    "The following code renders all the render jobs and save the images to the ``output_path`` set in ``seq.add_to_renderer`` above."
   ]
  },
  {
   "cell_type": "code",
   "execution_count": null,
   "metadata": {},
   "outputs": [],
   "source": [
    "xf_runner.render()"
   ]
  },
  {
   "cell_type": "markdown",
   "metadata": {},
   "source": [
    "Check the ``output_path``, and you can see the rendered images like this:\n",
    "\n",
    "[image]"
   ]
  },
  {
   "cell_type": "markdown",
   "metadata": {},
   "source": [
    "## 6. Close the engine\n",
    "\n",
    "Finally, close the engine by:"
   ]
  },
  {
   "cell_type": "code",
   "execution_count": null,
   "metadata": {},
   "outputs": [],
   "source": [
    "xf_runner.close()"
   ]
  },
  {
   "cell_type": "markdown",
   "metadata": {},
   "source": [
    "Ref to [api docs](../../apis/xrfeitoria.rst), you can always use ``with`` statement to ensure the engine is closed when the codes are finished."
   ]
  }
 ],
 "metadata": {
  "kernelspec": {
   "display_name": "blender-pipeline",
   "language": "python",
   "name": "python3"
  },
  "language_info": {
   "codemirror_mode": {
    "name": "ipython",
    "version": 3
   },
   "file_extension": ".py",
   "mimetype": "text/x-python",
   "name": "python",
   "nbconvert_exporter": "python",
   "pygments_lexer": "ipython3",
   "version": "3.10.12"
  },
  "orig_nbformat": 4
 },
 "nbformat": 4,
 "nbformat_minor": 2
}
