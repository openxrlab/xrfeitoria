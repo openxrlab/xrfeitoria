{
 "cells": [
  {
   "cell_type": "markdown",
   "metadata": {},
   "source": [
    "# Tutorial01 - Getting Started\n",
    "\n",
    "## Overview\n",
    "\n",
    "🚀 This tutorial demonstrates a minimal application of XRFeitoria. By the end of this tutorial, you will be able to:\n",
    "- Open Blender/Unreal Engine by XRFeitoria\n",
    "- Import a mesh\n",
    "- Add a camera\n",
    "- Render the mesh and save the image"
   ]
  },
  {
   "cell_type": "markdown",
   "metadata": {},
   "source": [
    "## 1. Import XRFeitoria\n",
    "\n",
    "After [Installing](../../index.rst#installation), import ``XRfeitoria`` by"
   ]
  },
  {
   "cell_type": "code",
   "execution_count": null,
   "metadata": {},
   "outputs": [],
   "source": [
    "import xrfeitoria as xf"
   ]
  },
  {
   "cell_type": "markdown",
   "metadata": {},
   "source": [
    "## 2. Choose engine\n",
    "\n",
    "``XRFeitoria`` supports both ``Blender`` and ``Unreal Engine``. Choose your engine and replace the following ``engine_exec_path`` with your own engine path.\n",
    "\n",
    "Then, initialize XRFeitoria and open the engine by ``xf.init_blender`` or by ``xf.init_unreal``."
   ]
  },
  {
   "cell_type": "code",
   "execution_count": null,
   "metadata": {},
   "outputs": [],
   "source": [
    "# Replace with your executable path\n",
    "\n",
    "# Blender\n",
    "# engine_exec_path = 'D:/Program Files/Blender Foundation/Blender 3.3/blender.exe'\n",
    "\n",
    "# Unreal Engine\n",
    "engine_exec_path = 'D:/Program Files/Epic Games/UE_5.1/Engine/Binaries/Win64/UnrealEditor-Cmd.exe'"
   ]
  },
  {
   "cell_type": "code",
   "execution_count": null,
   "metadata": {},
   "outputs": [],
   "source": [
    "from pathlib import Path\n",
    "\n",
    "exec_path_stem = Path(engine_exec_path).stem.lower()\n",
    "if 'blender' in exec_path_stem:\n",
    "    # Open Blender\n",
    "    engine = 'blender'\n",
    "    xf_runner = xf.init_blender(exec_path=engine_exec_path, background=False, new_process=True)\n",
    "elif 'unreal' in exec_path_stem:\n",
    "    # Unreal Engine requires a project to be opened\n",
    "    # Here we use a sample project, which is downloaded from the following link\n",
    "    # You can also prepare your own project\n",
    "    import shutil\n",
    "    from xrfeitoria.utils.downloader import download\n",
    "    unreal_project_zip = download(url='https://openxrlab-share.oss-cn-hongkong.aliyuncs.com/xrfeitoria/unreal_project/XRFeitoriaUnreal_Sample.zip', \n",
    "                                    dst_dir=\"./tutorial01/assets/\")\n",
    "    shutil.unpack_archive(filename=unreal_project_zip, extract_dir='./tutorial01/assets/')\n",
    "\n",
    "    # Open Unreal Engine\n",
    "    engine = 'unreal'\n",
    "    xf_runner = xf.init_unreal(exec_path=engine_exec_path, \n",
    "                                background=False, \n",
    "                                new_process=True, \n",
    "                                project_path='./tutorial01/assets/XRFeitoriaUnreal_Sample/XRFeitoriaUnreal_Sample.uproject')"
   ]
  },
  {
   "cell_type": "markdown",
   "metadata": {},
   "source": [
    "✨ Now you can see a new Blender/Unreal Engine process has been started.\n",
    "\n",
    "![](http://file.bj.zoe.sensetime.com/resources/meihaiyi/xrfeitoria/pics/tutorial/01/blender/open_blender.png)"
   ]
  },
  {
   "cell_type": "markdown",
   "metadata": {},
   "source": [
    "## 3. Import a mesh\n",
    "\n",
    "Download the [Spot](http://www.cs.cmu.edu/~kmcrane/Projects/ModelRepository/index.html#spot) model by the following cell."
   ]
  },
  {
   "cell_type": "code",
   "execution_count": null,
   "metadata": {},
   "outputs": [],
   "source": [
    "import shutil\n",
    "from xrfeitoria.utils.downloader import download\n",
    "\n",
    "# Download the Spot\n",
    "spot_zip = download('http://file.bj.zoe.sensetime.com/resources/meihaiyi/xrfeitoria/assets/spot.zip', dst_dir=\"./tutorial01/assets/\")\n",
    "shutil.unpack_archive(filename=spot_zip, extract_dir='./tutorial01/assets/')\n",
    "spot_path = Path(\"./tutorial01/assets/spot/spot_triangulated.obj\").resolve()"
   ]
  },
  {
   "cell_type": "markdown",
   "metadata": {},
   "source": [
    "Import the .obj file to create an ``Actor`` instance.\n",
    "\n",
    "``Actor`` is the container of a mesh. By using ``Actor``, you can place a mesh in the space and set its transform data (location, rotation and scale)."
   ]
  },
  {
   "cell_type": "code",
   "execution_count": null,
   "metadata": {},
   "outputs": [],
   "source": [
    "# Import the spot\n",
    "actor_spot = xf_runner.Actor.import_from_file(file_path=spot_path)"
   ]
  },
  {
   "cell_type": "markdown",
   "metadata": {},
   "source": [
    "Switch to the engine window, and you can see the spot has been imported. The space to place the ``Actor``s is called ``Level``. ``Level`` is a container of all ``Actor``s. You can add, remove, or modify ``Actor``s in the `Level`.\n",
    "\n",
    "![](http://file.bj.zoe.sensetime.com/resources/meihaiyi/xrfeitoria/pics/tutorial/01/blender/import_spot.png)"
   ]
  },
  {
   "cell_type": "markdown",
   "metadata": {},
   "source": [
    "If you use ``Unreal Engine``, the final step before rendering is to save the ``Level``."
   ]
  },
  {
   "cell_type": "code",
   "execution_count": null,
   "metadata": {},
   "outputs": [],
   "source": [
    "# save the level\n",
    "if engine == 'unreal':\n",
    "    xf_runner.utils.save_current_level()   "
   ]
  },
  {
   "cell_type": "markdown",
   "metadata": {},
   "source": [
    "## 4. Add a sequence for rendering\n",
    "\n",
    "``Sequence`` is a multifunctional class in XRFeitoria. It can be used for:\n",
    "- rendering\n",
    "- adding transform keys\n",
    "- grouping different objects.\n",
    "\n",
    "Here, we use it for rendering."
   ]
  },
  {
   "cell_type": "code",
   "execution_count": null,
   "metadata": {},
   "outputs": [],
   "source": [
    "from xrfeitoria.data_structure.models import RenderPass\n",
    "\n",
    "# Use `with` statement to create a sequence, and it will be automatically close the sequence after the code block is executed.\n",
    "with xf_runner.Sequence.new(seq_name=\"MySequence\") as seq:\n",
    "\n",
    "    # Add a camera and make it look at the spot\n",
    "    camera_location = (-3.0, 0.0, 0.0)\n",
    "    camera_rotation = xf_runner.utils.get_rotation_to_look_at(location=camera_location, target=actor_spot.location)\n",
    "    seq.spawn_camera(location=camera_location, rotation=camera_rotation, fov=90)\n",
    "\n",
    "    # Add a render job to renderer\n",
    "    # In render job, you can specify the output path, resolution, render passes, etc.\n",
    "    # The output path is the path to save the rendered data.\n",
    "    # The resolution is the resolution of the rendered image.\n",
    "    # The render passes define what kind of data you want to render, such as img, depth, normal, etc.\n",
    "    # and what kind of format you want to save, such as png, exr, etc.\n",
    "    seq.add_to_renderer(\n",
    "        output_path=f'./tutorial01/outputs/{engine}/',\n",
    "        resolution=(1280, 720),\n",
    "        render_passes=[RenderPass('img', 'png')]\n",
    "    )"
   ]
  },
  {
   "cell_type": "markdown",
   "metadata": {},
   "source": [
    "## 5. Render\n",
    "\n",
    "The following code renders all the render jobs and save the images to the ``output_path`` you set in ``seq.add_to_renderer`` above."
   ]
  },
  {
   "cell_type": "code",
   "execution_count": null,
   "metadata": {},
   "outputs": [],
   "source": [
    "xf_runner.render()"
   ]
  },
  {
   "cell_type": "markdown",
   "metadata": {},
   "source": [
    "Check the ``output_path``, you can see the rendered images like this:\n",
    "\n",
    "![](http://file.bj.zoe.sensetime.com/resources/meihaiyi/xrfeitoria/pics/tutorial/01/blender/0000.png)"
   ]
  },
  {
   "cell_type": "markdown",
   "metadata": {},
   "source": [
    "## 6. Final step\n",
    "\n",
    "🥳 This is a good start! Finally, **Do remember** to close the engine. "
   ]
  },
  {
   "cell_type": "code",
   "execution_count": null,
   "metadata": {},
   "outputs": [],
   "source": [
    "xf_runner.close()"
   ]
  },
  {
   "cell_type": "markdown",
   "metadata": {},
   "source": [
    "Ref to [api docs](../../apis/xrfeitoria.rst), you can always use ``with`` statement to ensure the engine is closed when the codes are finished."
   ]
  }
 ],
 "metadata": {
  "kernelspec": {
   "display_name": "blender-pipeline",
   "language": "python",
   "name": "python3"
  },
  "language_info": {
   "codemirror_mode": {
    "name": "ipython",
    "version": 3
   },
   "file_extension": ".py",
   "mimetype": "text/x-python",
   "name": "python",
   "nbconvert_exporter": "python",
   "pygments_lexer": "ipython3",
   "version": "3.10.12"
  },
  "orig_nbformat": 4
 },
 "nbformat": 4,
 "nbformat_minor": 2
}
