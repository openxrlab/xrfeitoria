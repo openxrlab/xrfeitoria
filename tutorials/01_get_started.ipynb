{
 "cells": [
  {
   "cell_type": "markdown",
   "metadata": {},
   "source": [
    "# Tutorial01 - Getting Started\n",
    "\n",
    "## Overview\n",
    "\n",
    "🚀 In this tutorial, we'll initialize XRFeitoria and add basic shapes."
   ]
  },
  {
   "cell_type": "markdown",
   "metadata": {},
   "source": [
    "## Import XRFeitoria\n",
    "\n",
    "After [Installing][1], import ``XRfeitoria`` by\n",
    "\n",
    "[1]: http://xrfeitoria.readthedocs.io/en/latest/installation.html"
   ]
  },
  {
   "cell_type": "code",
   "execution_count": null,
   "metadata": {},
   "outputs": [],
   "source": [
    "import xrfeitoria as xf"
   ]
  },
  {
   "cell_type": "markdown",
   "metadata": {},
   "source": [
    "## Choose engine\n",
    "\n",
    "``XRFeitoria`` supports both ``Blender`` and ``Unreal Engine``. Choose your engine and replace the following ``engine_exec_path`` with your own engine path."
   ]
  },
  {
   "cell_type": "code",
   "execution_count": null,
   "metadata": {},
   "outputs": [],
   "source": [
    "engine_exec_path = 'C:/Program Files/Blender Foundation/Blender 3.3/blender.exe'"
   ]
  },
  {
   "cell_type": "markdown",
   "metadata": {},
   "source": [
    "Then, initialize XRFeitoria by ``xf.init_blender`` or by ``xf.init_unreal``."
   ]
  },
  {
   "cell_type": "code",
   "execution_count": null,
   "metadata": {},
   "outputs": [],
   "source": [
    "from pathlib import Path\n",
    "\n",
    "exec_path_stem = Path(engine_exec_path).stem.lower()\n",
    "if 'blender' in exec_path_stem:\n",
    "    xf_runner = xf.init_blender(exec_path=engine_exec_path, background=False, new_process=True)\n",
    "elif 'unreal' in exec_path_stem:\n",
    "    xf_runner = xf.init_unreal(exec_path=engine_exec_path, background=False, new_process=True)"
   ]
  },
  {
   "cell_type": "markdown",
   "metadata": {},
   "source": [
    "✨ Now you can see a new Blender/Unreal Engine process has started.\n",
    "\n",
    "The codes above returns a handler named ``xf_runner``. By using ``xf_runner``, you can:\n",
    "- add basic shapes\n",
    "- add cameras\n",
    "- import actors from files\n",
    "- render images\n",
    "\n",
    "In this tutorial, we will demonstrate how to add basic shapes in the engine."
   ]
  },
  {
   "cell_type": "markdown",
   "metadata": {},
   "source": [
    "## Add shapes\n",
    "\n",
    "The following codes add some basic shapes into the engine, such as cubes, spheres, cylinders, and cones. \n",
    "\n",
    "The functions in ``xf_runner.Shape`` enable you to directly use basic shapes and get rid of preparing assets by yourself.  "
   ]
  },
  {
   "cell_type": "code",
   "execution_count": null,
   "metadata": {},
   "outputs": [],
   "source": [
    "_scale = 0.5\n",
    "# add cubes\n",
    "for i in range(3):\n",
    "    xf_runner.Shape.spawn(name=f'cube_{i}', type='cube', location=(0, i, 0), scale=(_scale, _scale, _scale))\n",
    "\n",
    "# add spheres\n",
    "for i in range(3):\n",
    "    xf_runner.Shape.spawn(name=f'sphere_{i}', type='sphere', location=(1, i, 0), scale=(_scale, _scale, _scale))\n",
    "\n",
    "# add cylinders\n",
    "for i in range(3):\n",
    "    xf_runner.Shape.spawn(name=f'cylinder_{i}', type='cylinder', location=(2, i, 0), scale=(_scale, _scale, _scale))"
   ]
  },
  {
   "cell_type": "markdown",
   "metadata": {},
   "source": [
    "✨ Running the codes above should give a result as depicted below.\n",
    "\n",
    "![](https://openxrlab-share.oss-cn-hongkong.aliyuncs.com/xrfeitoria/pics/tutorial-01.png)"
   ]
  },
  {
   "cell_type": "markdown",
   "metadata": {},
   "source": [
    "## Final step\n",
    "\n",
    "🥳 This is a good start! XRFeitoria was initialized and multiple shapes were added in the engine. \n",
    "\n",
    "**Do remember** to will close the engine. "
   ]
  },
  {
   "cell_type": "code",
   "execution_count": null,
   "metadata": {},
   "outputs": [],
   "source": [
    "xf_runner.close()"
   ]
  },
  {
   "cell_type": "markdown",
   "metadata": {},
   "source": [
    "Ref to [api docs](../../apis/xrfeitoria.rst), you can always use ``with`` statement to ensure the engine is closed when the codes are finished."
   ]
  },
  {
   "cell_type": "markdown",
   "metadata": {},
   "source": []
  }
 ],
 "metadata": {
  "kernelspec": {
   "display_name": "blender-pipeline",
   "language": "python",
   "name": "python3"
  },
  "language_info": {
   "codemirror_mode": {
    "name": "ipython",
    "version": 3
   },
   "file_extension": ".py",
   "mimetype": "text/x-python",
   "name": "python",
   "nbconvert_exporter": "python",
   "pygments_lexer": "ipython3",
   "version": "3.10.12"
  },
  "orig_nbformat": 4
 },
 "nbformat": 4,
 "nbformat_minor": 2
}
